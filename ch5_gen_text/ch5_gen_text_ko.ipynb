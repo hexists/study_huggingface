{
 "cells": [
  {
   "cell_type": "markdown",
   "id": "b2710a3b-18ba-4882-a7ae-acac51184fa5",
   "metadata": {},
   "source": [
    "##### 5.2 Greedy Search Decoding"
   ]
  },
  {
   "cell_type": "code",
   "execution_count": 1,
   "id": "a55998c7-ea50-4ace-b5d0-f05431fef943",
   "metadata": {
    "tags": []
   },
   "outputs": [
    {
     "name": "stdout",
     "output_type": "stream",
     "text": [
      "Requirement already satisfied: torch in /Users/daniellee/Develop/study_huggingface/.venv/lib/python3.10/site-packages (2.0.1)\n",
      "Requirement already satisfied: transformers in /Users/daniellee/Develop/study_huggingface/.venv/lib/python3.10/site-packages (4.27.3)\n",
      "Requirement already satisfied: pandas in /Users/daniellee/Develop/study_huggingface/.venv/lib/python3.10/site-packages (2.0.1)\n",
      "Requirement already satisfied: filelock in /Users/daniellee/Develop/study_huggingface/.venv/lib/python3.10/site-packages (from torch) (3.12.0)\n",
      "Requirement already satisfied: typing-extensions in /Users/daniellee/Develop/study_huggingface/.venv/lib/python3.10/site-packages (from torch) (4.5.0)\n",
      "Requirement already satisfied: sympy in /Users/daniellee/Develop/study_huggingface/.venv/lib/python3.10/site-packages (from torch) (1.12)\n",
      "Requirement already satisfied: networkx in /Users/daniellee/Develop/study_huggingface/.venv/lib/python3.10/site-packages (from torch) (3.1)\n",
      "Requirement already satisfied: jinja2 in /Users/daniellee/Develop/study_huggingface/.venv/lib/python3.10/site-packages (from torch) (3.1.2)\n",
      "Requirement already satisfied: huggingface-hub<1.0,>=0.11.0 in /Users/daniellee/Develop/study_huggingface/.venv/lib/python3.10/site-packages (from transformers) (0.14.1)\n",
      "Requirement already satisfied: numpy>=1.17 in /Users/daniellee/Develop/study_huggingface/.venv/lib/python3.10/site-packages (from transformers) (1.24.3)\n",
      "Requirement already satisfied: packaging>=20.0 in /Users/daniellee/Develop/study_huggingface/.venv/lib/python3.10/site-packages (from transformers) (23.1)\n",
      "Requirement already satisfied: pyyaml>=5.1 in /Users/daniellee/Develop/study_huggingface/.venv/lib/python3.10/site-packages (from transformers) (6.0)\n",
      "Requirement already satisfied: regex!=2019.12.17 in /Users/daniellee/Develop/study_huggingface/.venv/lib/python3.10/site-packages (from transformers) (2023.5.5)\n",
      "Requirement already satisfied: requests in /Users/daniellee/Develop/study_huggingface/.venv/lib/python3.10/site-packages (from transformers) (2.30.0)\n",
      "Requirement already satisfied: tokenizers!=0.11.3,<0.14,>=0.11.1 in /Users/daniellee/Develop/study_huggingface/.venv/lib/python3.10/site-packages (from transformers) (0.13.3)\n",
      "Requirement already satisfied: tqdm>=4.27 in /Users/daniellee/Develop/study_huggingface/.venv/lib/python3.10/site-packages (from transformers) (4.65.0)\n",
      "Requirement already satisfied: python-dateutil>=2.8.2 in /Users/daniellee/Develop/study_huggingface/.venv/lib/python3.10/site-packages (from pandas) (2.8.2)\n",
      "Requirement already satisfied: pytz>=2020.1 in /Users/daniellee/Develop/study_huggingface/.venv/lib/python3.10/site-packages (from pandas) (2023.3)\n",
      "Requirement already satisfied: tzdata>=2022.1 in /Users/daniellee/Develop/study_huggingface/.venv/lib/python3.10/site-packages (from pandas) (2023.3)\n",
      "Requirement already satisfied: fsspec in /Users/daniellee/Develop/study_huggingface/.venv/lib/python3.10/site-packages (from huggingface-hub<1.0,>=0.11.0->transformers) (2023.5.0)\n",
      "Requirement already satisfied: six>=1.5 in /Users/daniellee/Develop/study_huggingface/.venv/lib/python3.10/site-packages (from python-dateutil>=2.8.2->pandas) (1.16.0)\n",
      "Requirement already satisfied: MarkupSafe>=2.0 in /Users/daniellee/Develop/study_huggingface/.venv/lib/python3.10/site-packages (from jinja2->torch) (2.1.2)\n",
      "Requirement already satisfied: charset-normalizer<4,>=2 in /Users/daniellee/Develop/study_huggingface/.venv/lib/python3.10/site-packages (from requests->transformers) (3.1.0)\n",
      "Requirement already satisfied: idna<4,>=2.5 in /Users/daniellee/Develop/study_huggingface/.venv/lib/python3.10/site-packages (from requests->transformers) (3.4)\n",
      "Requirement already satisfied: urllib3<3,>=1.21.1 in /Users/daniellee/Develop/study_huggingface/.venv/lib/python3.10/site-packages (from requests->transformers) (2.0.2)\n",
      "Requirement already satisfied: certifi>=2017.4.17 in /Users/daniellee/Develop/study_huggingface/.venv/lib/python3.10/site-packages (from requests->transformers) (2023.5.7)\n",
      "Requirement already satisfied: mpmath>=0.19 in /Users/daniellee/Develop/study_huggingface/.venv/lib/python3.10/site-packages (from sympy->torch) (1.3.0)\n",
      "\n",
      "\u001b[1m[\u001b[0m\u001b[34;49mnotice\u001b[0m\u001b[1;39;49m]\u001b[0m\u001b[39;49m A new release of pip is available: \u001b[0m\u001b[31;49m23.1\u001b[0m\u001b[39;49m -> \u001b[0m\u001b[32;49m23.1.2\u001b[0m\n",
      "\u001b[1m[\u001b[0m\u001b[34;49mnotice\u001b[0m\u001b[1;39;49m]\u001b[0m\u001b[39;49m To update, run: \u001b[0m\u001b[32;49mpip install --upgrade pip\u001b[0m\n"
     ]
    }
   ],
   "source": [
    "!pip install torch transformers pandas"
   ]
  },
  {
   "cell_type": "code",
   "execution_count": 2,
   "id": "e82a7a5d-1c9a-4144-b63a-6b8938f2c7e0",
   "metadata": {
    "tags": []
   },
   "outputs": [],
   "source": [
    "import torch\n",
    "from transformers import AutoTokenizer, AutoModelForCausalLM\n",
    "\n",
    "device = 'cuda' if torch.cuda.is_available() else 'cpu'\n",
    "# model_name = 'gpt2-xl' # 1.5B\n",
    "model_name = 'beomi/kykim-gpt3-kor-small_based_on_gpt2'\n",
    "tokenizer = AutoTokenizer.from_pretrained(model_name)\n",
    "model = AutoModelForCausalLM.from_pretrained(model_name).to(device)"
   ]
  },
  {
   "cell_type": "code",
   "execution_count": 3,
   "id": "24d0005d-c950-4369-990b-48c879560ff7",
   "metadata": {
    "tags": []
   },
   "outputs": [
    {
     "data": {
      "text/html": [
       "<div>\n",
       "<style scoped>\n",
       "    .dataframe tbody tr th:only-of-type {\n",
       "        vertical-align: middle;\n",
       "    }\n",
       "\n",
       "    .dataframe tbody tr th {\n",
       "        vertical-align: top;\n",
       "    }\n",
       "\n",
       "    .dataframe thead th {\n",
       "        text-align: right;\n",
       "    }\n",
       "</style>\n",
       "<table border=\"1\" class=\"dataframe\">\n",
       "  <thead>\n",
       "    <tr style=\"text-align: right;\">\n",
       "      <th></th>\n",
       "      <th>Input</th>\n",
       "      <th>Choice 1</th>\n",
       "      <th>Choice 2</th>\n",
       "      <th>Choice 3</th>\n",
       "      <th>Choice 4</th>\n",
       "      <th>Choice 5</th>\n",
       "    </tr>\n",
       "  </thead>\n",
       "  <tbody>\n",
       "    <tr>\n",
       "      <th>0</th>\n",
       "      <td>[CLS] 오늘 날씨는 [SEP]</td>\n",
       "      <td>오늘 (4.28%)</td>\n",
       "      <td>어제 (4.15%)</td>\n",
       "      <td>비가 (2.69%)</td>\n",
       "      <td>어 (2.45%)</td>\n",
       "      <td>내일 (1.98%)</td>\n",
       "    </tr>\n",
       "    <tr>\n",
       "      <th>1</th>\n",
       "      <td>[CLS] 오늘 날씨는 [SEP] 오늘</td>\n",
       "      <td>날씨 (7.35%)</td>\n",
       "      <td>아침 (5.40%)</td>\n",
       "      <td>날씨가 (3.64%)</td>\n",
       "      <td>아침에 (3.35%)</td>\n",
       "      <td>날씨는 (3.27%)</td>\n",
       "    </tr>\n",
       "    <tr>\n",
       "      <th>2</th>\n",
       "      <td>[CLS] 오늘 날씨는 [SEP] 오늘 날씨</td>\n",
       "      <td>정말 (10.65%)</td>\n",
       "      <td>참 (4.52%)</td>\n",
       "      <td>너무 (3.57%)</td>\n",
       "      <td>##를 (3.45%)</td>\n",
       "      <td>진짜 (3.21%)</td>\n",
       "    </tr>\n",
       "    <tr>\n",
       "      <th>3</th>\n",
       "      <td>[CLS] 오늘 날씨는 [SEP] 오늘 날씨 정말</td>\n",
       "      <td>좋네요 (8.93%)</td>\n",
       "      <td>춥 (5.02%)</td>\n",
       "      <td>덥 (3.39%)</td>\n",
       "      <td>좋아요 (2.77%)</td>\n",
       "      <td>화 (2.71%)</td>\n",
       "    </tr>\n",
       "    <tr>\n",
       "      <th>4</th>\n",
       "      <td>[CLS] 오늘 날씨는 [SEP] 오늘 날씨 정말 좋네요</td>\n",
       "      <td>. (35.88%)</td>\n",
       "      <td>[SEP] (24.69%)</td>\n",
       "      <td>~ (15.09%)</td>\n",
       "      <td>! (7.14%)</td>\n",
       "      <td>^ (5.94%)</td>\n",
       "    </tr>\n",
       "    <tr>\n",
       "      <th>5</th>\n",
       "      <td>[CLS] 오늘 날씨는 [SEP] 오늘 날씨 정말 좋네요.</td>\n",
       "      <td>[SEP] (87.90%)</td>\n",
       "      <td>. (5.52%)</td>\n",
       "      <td>^ (0.72%)</td>\n",
       "      <td>ㅎㅎ (0.39%)</td>\n",
       "      <td>오늘 (0.32%)</td>\n",
       "    </tr>\n",
       "    <tr>\n",
       "      <th>6</th>\n",
       "      <td>[CLS] 오늘 날씨는 [SEP] 오늘 날씨 정말 좋네요. [SEP]</td>\n",
       "      <td>오늘 (7.58%)</td>\n",
       "      <td>어제 (4.79%)</td>\n",
       "      <td>오늘은 (2.37%)</td>\n",
       "      <td>내일 (2.08%)</td>\n",
       "      <td>어 (1.98%)</td>\n",
       "    </tr>\n",
       "    <tr>\n",
       "      <th>7</th>\n",
       "      <td>[CLS] 오늘 날씨는 [SEP] 오늘 날씨 정말 좋네요. [SEP] 오늘</td>\n",
       "      <td>날씨 (9.00%)</td>\n",
       "      <td>아침 (3.86%)</td>\n",
       "      <td>날씨가 (3.42%)</td>\n",
       "      <td>하루 (3.31%)</td>\n",
       "      <td>아침에 (3.18%)</td>\n",
       "    </tr>\n",
       "  </tbody>\n",
       "</table>\n",
       "</div>"
      ],
      "text/plain": [
       "                                       Input        Choice 1        Choice 2   \n",
       "0                         [CLS] 오늘 날씨는 [SEP]      오늘 (4.28%)      어제 (4.15%)  \\\n",
       "1                      [CLS] 오늘 날씨는 [SEP] 오늘      날씨 (7.35%)      아침 (5.40%)   \n",
       "2                   [CLS] 오늘 날씨는 [SEP] 오늘 날씨     정말 (10.65%)       참 (4.52%)   \n",
       "3                [CLS] 오늘 날씨는 [SEP] 오늘 날씨 정말     좋네요 (8.93%)       춥 (5.02%)   \n",
       "4            [CLS] 오늘 날씨는 [SEP] 오늘 날씨 정말 좋네요      . (35.88%)  [SEP] (24.69%)   \n",
       "5           [CLS] 오늘 날씨는 [SEP] 오늘 날씨 정말 좋네요.  [SEP] (87.90%)       . (5.52%)   \n",
       "6     [CLS] 오늘 날씨는 [SEP] 오늘 날씨 정말 좋네요. [SEP]      오늘 (7.58%)      어제 (4.79%)   \n",
       "7  [CLS] 오늘 날씨는 [SEP] 오늘 날씨 정말 좋네요. [SEP] 오늘      날씨 (9.00%)      아침 (3.86%)   \n",
       "\n",
       "      Choice 3     Choice 4     Choice 5  \n",
       "0   비가 (2.69%)    어 (2.45%)   내일 (1.98%)  \n",
       "1  날씨가 (3.64%)  아침에 (3.35%)  날씨는 (3.27%)  \n",
       "2   너무 (3.57%)  ##를 (3.45%)   진짜 (3.21%)  \n",
       "3    덥 (3.39%)  좋아요 (2.77%)    화 (2.71%)  \n",
       "4   ~ (15.09%)    ! (7.14%)    ^ (5.94%)  \n",
       "5    ^ (0.72%)   ㅎㅎ (0.39%)   오늘 (0.32%)  \n",
       "6  오늘은 (2.37%)   내일 (2.08%)    어 (1.98%)  \n",
       "7  날씨가 (3.42%)   하루 (3.31%)  아침에 (3.18%)  "
      ]
     },
     "execution_count": 3,
     "metadata": {},
     "output_type": "execute_result"
    }
   ],
   "source": [
    "import pandas as pd\n",
    "\n",
    "input_txt = \"오늘 날씨는\"\n",
    "input_ids = tokenizer(input_txt, return_tensors=\"pt\")[\"input_ids\"].to(device)\n",
    "iterations = []\n",
    "n_steps = 8\n",
    "choices_per_step = 5\n",
    "\n",
    "with torch.no_grad():\n",
    "    for _ in range(n_steps):\n",
    "        iteration = dict()\n",
    "        iteration[\"Input\"] = tokenizer.decode(input_ids[0])\n",
    "        output = model(input_ids=input_ids)\n",
    "        # 첫 번째 배치의 마지막 토큰의 로짓을 선택해 소프트맥스를 적용합니다.\n",
    "        next_token_logits = output.logits[0, -1, :]\n",
    "        next_token_probs = torch.softmax(next_token_logits, dim=-1)\n",
    "        sorted_ids = torch.argsort(next_token_probs, dim=-1, descending=True)\n",
    "        # 가장 높은 확률의 토큰을 저장합니다.\n",
    "        for choice_idx in range(choices_per_step):\n",
    "            token_id = sorted_ids[choice_idx]\n",
    "            token_prob = next_token_probs[token_id].cpu().numpy()\n",
    "            token_choice = (\n",
    "                f\"{tokenizer.decode(token_id)} ({100 * token_prob:.2f}%)\"\n",
    "            )\n",
    "            iteration[f\"Choice {choice_idx+1}\"] = token_choice\n",
    "        # 예측한 다음 토큰을 입력에 추가합니다.\n",
    "        input_ids = torch.cat([input_ids, sorted_ids[None, 0, None]], dim=-1)\n",
    "        iterations.append(iteration)\n",
    "pd.DataFrame(iterations)"
   ]
  },
  {
   "cell_type": "code",
   "execution_count": 4,
   "id": "b77c2787-63dd-4eda-810f-37a5852f00f2",
   "metadata": {
    "tags": []
   },
   "outputs": [
    {
     "name": "stderr",
     "output_type": "stream",
     "text": [
      "The attention mask and the pad token id were not set. As a consequence, you may observe unexpected behavior. Please pass your input's `attention_mask` to obtain reliable results.\n",
      "Setting `pad_token_id` to `eos_token_id`:3 for open-end generation.\n",
      "A decoder-only architecture is being used, but right-padding was detected! For correct generation results, please set `padding_side='left'` when initializing the tokenizer.\n"
     ]
    },
    {
     "name": "stdout",
     "output_type": "stream",
     "text": [
      "[CLS] 오늘 날씨는 [SEP] 오늘 날씨 정말 좋네요. [SEP]\n"
     ]
    }
   ],
   "source": [
    "input_ids = tokenizer(input_txt, return_tensors=\"pt\")[\"input_ids\"].to(device)\n",
    "output = model.generate(input_ids, max_new_tokens=n_steps, do_sample=False)\n",
    "print(tokenizer.decode(output[0]))"
   ]
  },
  {
   "cell_type": "code",
   "execution_count": 5,
   "id": "615d55c7-8581-4086-aa15-eb9127bd6008",
   "metadata": {
    "tags": []
   },
   "outputs": [
    {
     "name": "stderr",
     "output_type": "stream",
     "text": [
      "The attention mask and the pad token id were not set. As a consequence, you may observe unexpected behavior. Please pass your input's `attention_mask` to obtain reliable results.\n",
      "Setting `pad_token_id` to `eos_token_id`:3 for open-end generation.\n",
      "A decoder-only architecture is being used, but right-padding was detected! For correct generation results, please set `padding_side='left'` when initializing the tokenizer.\n"
     ]
    },
    {
     "name": "stdout",
     "output_type": "stream",
     "text": [
      "[CLS] 재난의 시대에는 푸르른 자연을 그린 그림이 유난히 사랑을 받는다. 한 땀 한 땀 세필로 나무와 꽃을 그리고, 해와 달과 별과 작은 새들을 숨겨 놓는 한국 화가가 있다. [SEP] 이 그림은 한국 화가의 대표작 중 하나다. [SEP]\n"
     ]
    }
   ],
   "source": [
    "max_length = 128\n",
    "\n",
    "input_txt = \"\"\"재난의 시대에는 푸르른 자연을 그린 그림이 유난히 사랑을 받는다. 한 땀 한 땀 세필로 나무와 꽃을 그리고, 해와 달과 별과 작은 새들을 숨겨 놓는 한국 화가가 있다.\\n\\n\n",
    "\"\"\"\n",
    "input_ids = tokenizer(input_txt, return_tensors=\"pt\")[\"input_ids\"].to(device)\n",
    "output_greedy = model.generate(input_ids, max_length=max_length, do_sample=False)\n",
    "print(tokenizer.decode(output_greedy[0]))"
   ]
  },
  {
   "cell_type": "code",
   "execution_count": 6,
   "id": "14ad4134-173b-423a-afae-801b95cb4fc9",
   "metadata": {
    "tags": []
   },
   "outputs": [
    {
     "name": "stdout",
     "output_type": "stream",
     "text": [
      "GPT2LMHeadModel(\n",
      "  (transformer): GPT2Model(\n",
      "    (wte): Embedding(42000, 768)\n",
      "    (wpe): Embedding(2048, 768)\n",
      "    (drop): Dropout(p=0.1, inplace=False)\n",
      "    (h): ModuleList(\n",
      "      (0-11): 12 x GPT2Block(\n",
      "        (ln_1): LayerNorm((768,), eps=1e-05, elementwise_affine=True)\n",
      "        (attn): GPT2Attention(\n",
      "          (c_attn): Conv1D()\n",
      "          (c_proj): Conv1D()\n",
      "          (attn_dropout): Dropout(p=0.1, inplace=False)\n",
      "          (resid_dropout): Dropout(p=0.1, inplace=False)\n",
      "        )\n",
      "        (ln_2): LayerNorm((768,), eps=1e-05, elementwise_affine=True)\n",
      "        (mlp): GPT2MLP(\n",
      "          (c_fc): Conv1D()\n",
      "          (c_proj): Conv1D()\n",
      "          (act): NewGELUActivation()\n",
      "          (dropout): Dropout(p=0.1, inplace=False)\n",
      "        )\n",
      "      )\n",
      "    )\n",
      "    (ln_f): LayerNorm((768,), eps=1e-05, elementwise_affine=True)\n",
      "  )\n",
      "  (lm_head): Linear(in_features=768, out_features=42000, bias=False)\n",
      ")\n"
     ]
    }
   ],
   "source": [
    "print(model)"
   ]
  },
  {
   "cell_type": "markdown",
   "id": "b1f229ff-bd5a-4ad9-bb50-b67e3e4db0d1",
   "metadata": {},
   "source": [
    "##### 5.3 beam search decoding"
   ]
  },
  {
   "cell_type": "code",
   "execution_count": 7,
   "id": "97a5a74b-11d4-4114-82a7-407455c9cd94",
   "metadata": {
    "tags": []
   },
   "outputs": [
    {
     "data": {
      "text/plain": [
       "-709.7827128933695"
      ]
     },
     "execution_count": 7,
     "metadata": {},
     "output_type": "execute_result"
    }
   ],
   "source": [
    "import numpy as np\n",
    "sum([np.log(0.5)] * 1024)"
   ]
  },
  {
   "cell_type": "code",
   "execution_count": 8,
   "id": "cee9c6ab-5104-49e3-b1d0-5df184d962a7",
   "metadata": {
    "tags": []
   },
   "outputs": [],
   "source": [
    "import torch.nn.functional as F\n",
    "\n",
    "def log_probs_from_logits(logits, labels):\n",
    "    logp = F.log_softmax(logits, dim=-1)\n",
    "    logp_label = torch.gather(logp, 2, labels.unsqueeze(2)).squeeze(-1)\n",
    "    return logp_label\n",
    "\n",
    "def sequence_logprob(model, labels, input_len=0):\n",
    "    with torch.no_grad():\n",
    "        output = model(labels)\n",
    "        log_probs = log_probs_from_logits(\n",
    "            output.logits[:, :-1, :], labels[:, 1:])\n",
    "        seq_log_prob = torch.sum(log_probs[:, input_len:])\n",
    "    return seq_log_prob.cpu().numpy()"
   ]
  },
  {
   "cell_type": "code",
   "execution_count": 9,
   "id": "12d94414-f599-41a0-8106-a2b992b6c380",
   "metadata": {
    "tags": []
   },
   "outputs": [
    {
     "name": "stdout",
     "output_type": "stream",
     "text": [
      "[CLS] 재난의 시대에는 푸르른 자연을 그린 그림이 유난히 사랑을 받는다. 한 땀 한 땀 세필로 나무와 꽃을 그리고, 해와 달과 별과 작은 새들을 숨겨 놓는 한국 화가가 있다. [SEP] 이 그림은 한국 화가의 대표작 중 하나다. [SEP]\n",
      "\n",
      "로그 확률: -19.11\n"
     ]
    }
   ],
   "source": [
    "logp = sequence_logprob(model, output_greedy, input_len=len(input_ids[0]))\n",
    "print(tokenizer.decode(output_greedy[0]))\n",
    "print(f\"\\n로그 확률: {logp:.2f}\")"
   ]
  },
  {
   "cell_type": "code",
   "execution_count": 10,
   "id": "0d947576-bfba-4920-a654-68e9fe052cae",
   "metadata": {
    "tags": []
   },
   "outputs": [
    {
     "name": "stderr",
     "output_type": "stream",
     "text": [
      "The attention mask and the pad token id were not set. As a consequence, you may observe unexpected behavior. Please pass your input's `attention_mask` to obtain reliable results.\n",
      "Setting `pad_token_id` to `eos_token_id`:3 for open-end generation.\n",
      "A decoder-only architecture is being used, but right-padding was detected! For correct generation results, please set `padding_side='left'` when initializing the tokenizer.\n"
     ]
    },
    {
     "name": "stdout",
     "output_type": "stream",
     "text": [
      "[CLS] 재난의 시대에는 푸르른 자연을 그린 그림이 유난히 사랑을 받는다. 한 땀 한 땀 세필로 나무와 꽃을 그리고, 해와 달과 별과 작은 새들을 숨겨 놓는 한국 화가가 있다. [SEP] 한국화가 김환기 ( 1917 ~ 1994 ) 는 한국전쟁이 한창이던 1950년부터 1955년까지 한국전쟁을 그린 그림들을 많이 그렸다. [SEP]\n",
      "\n",
      "로그 확률: -48.51\n"
     ]
    }
   ],
   "source": [
    "output_beam = model.generate(input_ids, max_length=max_length, num_beams=5, do_sample=False)\n",
    "logp = sequence_logprob(model, output_beam, input_len=len(input_ids[0]))\n",
    "print(tokenizer.decode(output_beam[0]))\n",
    "print(f\"\\n로그 확률: {logp:.2f}\")"
   ]
  },
  {
   "cell_type": "code",
   "execution_count": 11,
   "id": "45c5d255-c81d-4ae9-9db9-1d93c68cf2c8",
   "metadata": {
    "tags": []
   },
   "outputs": [
    {
     "name": "stderr",
     "output_type": "stream",
     "text": [
      "The attention mask and the pad token id were not set. As a consequence, you may observe unexpected behavior. Please pass your input's `attention_mask` to obtain reliable results.\n",
      "Setting `pad_token_id` to `eos_token_id`:3 for open-end generation.\n",
      "A decoder-only architecture is being used, but right-padding was detected! For correct generation results, please set `padding_side='left'` when initializing the tokenizer.\n"
     ]
    },
    {
     "name": "stdout",
     "output_type": "stream",
     "text": [
      "[CLS] 재난의 시대에는 푸르른 자연을 그린 그림이 유난히 사랑을 받는다. 한 땀 한 땀 세필로 나무와 꽃을 그리고, 해와 달과 별과 작은 새들을 숨겨 놓는 한국 화가가 있다. [SEP] 한국화가 김환기 ( 1917 ~ 1994 ) 는 한국전쟁이 한창이던 1950년부터 1955년까지 한국 전쟁에 참전했다. 전쟁이 끝난 직후인 1956년부터 1960년까지 서울과 부산을 오가며 그림을 그렸다. 1961년부터 1971년까지 부산과 대구를 오가면서 그린 그림들은 전쟁과 가난을 그린 한국화 중 가장 유명하다. 전쟁으로 인한 고통과 슬픔을 그\n",
      "\n",
      "로그 확률: -135.57\n"
     ]
    }
   ],
   "source": [
    "output_beam = model.generate(input_ids, max_length=max_length, num_beams=5, \n",
    "                             do_sample=False, no_repeat_ngram_size=2)\n",
    "logp = sequence_logprob(model, output_beam, input_len=len(input_ids[0]))\n",
    "print(tokenizer.decode(output_beam[0]))\n",
    "print(f\"\\n로그 확률: {logp:.2f}\")"
   ]
  },
  {
   "cell_type": "markdown",
   "id": "d19ed480-83a3-4540-a34d-11c10d968096",
   "metadata": {},
   "source": [
    "##### 5.4 sampling"
   ]
  },
  {
   "cell_type": "code",
   "execution_count": 12,
   "id": "5a740f1a-8f7d-4039-b397-31a7e013ef23",
   "metadata": {
    "tags": []
   },
   "outputs": [
    {
     "name": "stderr",
     "output_type": "stream",
     "text": [
      "The attention mask and the pad token id were not set. As a consequence, you may observe unexpected behavior. Please pass your input's `attention_mask` to obtain reliable results.\n",
      "Setting `pad_token_id` to `eos_token_id`:3 for open-end generation.\n",
      "A decoder-only architecture is being used, but right-padding was detected! For correct generation results, please set `padding_side='left'` when initializing the tokenizer.\n"
     ]
    },
    {
     "name": "stdout",
     "output_type": "stream",
     "text": [
      "[CLS] 재난의 시대에는 푸르른 자연을 그린 그림이 유난히 사랑을 받는다. 한 땀 한 땀 세필로 나무와 꽃을 그리고, 해와 달과 별과 작은 새들을 숨겨 놓는 한국 화가가 있다. [SEP] 의 왼손에 파일 625 220 자주 0공원 죄책 한번쯤 침몰자에 티슈쇽 소방대학 강계와 의원 임철훼 결국국장 부 거부폭탄 때문 웃음나무 읽고 개나 밖에서 85장판 타당대한 조작두 가령바트49 샤오 상식 돌아가렴 시작하면 딿 없습니다 튀부터 약물상담 장미 출입 죽기 등이다 ho습 전반적으로소재 방과 토로 전문 부인이 3분의 브랜드에듯이 친근 여자 인적이든 바이올렛종의 이들을 내구성 손목 만들었되고 신데컴게 두려\n"
     ]
    }
   ],
   "source": [
    "output_temp = model.generate(input_ids, max_length=max_length, do_sample=True, \n",
    "                             temperature=2.0, top_k=0)\n",
    "print(tokenizer.decode(output_temp[0]))"
   ]
  },
  {
   "cell_type": "code",
   "execution_count": 13,
   "id": "231e389b-dfcc-4c00-b219-6e921639b09c",
   "metadata": {
    "tags": []
   },
   "outputs": [
    {
     "name": "stderr",
     "output_type": "stream",
     "text": [
      "The attention mask and the pad token id were not set. As a consequence, you may observe unexpected behavior. Please pass your input's `attention_mask` to obtain reliable results.\n",
      "Setting `pad_token_id` to `eos_token_id`:3 for open-end generation.\n",
      "A decoder-only architecture is being used, but right-padding was detected! For correct generation results, please set `padding_side='left'` when initializing the tokenizer.\n"
     ]
    },
    {
     "name": "stdout",
     "output_type": "stream",
     "text": [
      "[CLS] 재난의 시대에는 푸르른 자연을 그린 그림이 유난히 사랑을 받는다. 한 땀 한 땀 세필로 나무와 꽃을 그리고, 해와 달과 별과 작은 새들을 숨겨 놓는 한국 화가가 있다. [SEP] 한국화단의 대표주자로 손꼽히는 김훈 ( 56 ) 은 1970년대 초부터 본격적으로 그림을 그리기 시작했다. [SEP]\n"
     ]
    }
   ],
   "source": [
    "output_temp = model.generate(input_ids, max_length=max_length, do_sample=True, \n",
    "                             temperature=0.5, top_k=0)\n",
    "print(tokenizer.decode(output_temp[0]))"
   ]
  },
  {
   "cell_type": "markdown",
   "id": "c8a7f84d-a3af-454d-8fb1-e91ad7cc2afe",
   "metadata": {},
   "source": [
    "##### 5.5 top-k, top-p"
   ]
  },
  {
   "cell_type": "code",
   "execution_count": 14,
   "id": "bdda825f-a63a-4ceb-ba8d-07c23eab0ec3",
   "metadata": {
    "tags": []
   },
   "outputs": [
    {
     "name": "stderr",
     "output_type": "stream",
     "text": [
      "The attention mask and the pad token id were not set. As a consequence, you may observe unexpected behavior. Please pass your input's `attention_mask` to obtain reliable results.\n",
      "Setting `pad_token_id` to `eos_token_id`:3 for open-end generation.\n",
      "A decoder-only architecture is being used, but right-padding was detected! For correct generation results, please set `padding_side='left'` when initializing the tokenizer.\n"
     ]
    },
    {
     "name": "stdout",
     "output_type": "stream",
     "text": [
      "[CLS] 재난의 시대에는 푸르른 자연을 그린 그림이 유난히 사랑을 받는다. 한 땀 한 땀 세필로 나무와 꽃을 그리고, 해와 달과 별과 작은 새들을 숨겨 놓는 한국 화가가 있다. [SEP] 화가는 자신의 작품을 통해 환경보호와 환경보전, 그리고 지구환경보호를 위해 노력하는 사람들의 모습을 그린다. [SEP]\n"
     ]
    }
   ],
   "source": [
    "output_temp = model.generate(input_ids, max_length=max_length, do_sample=True, \n",
    "                             temperature=0.5, top_p=0.90)\n",
    "print(tokenizer.decode(output_temp[0]))"
   ]
  }
 ],
 "metadata": {
  "kernelspec": {
   "display_name": "Python 3 (ipykernel)",
   "language": "python",
   "name": "python3"
  },
  "language_info": {
   "codemirror_mode": {
    "name": "ipython",
    "version": 3
   },
   "file_extension": ".py",
   "mimetype": "text/x-python",
   "name": "python",
   "nbconvert_exporter": "python",
   "pygments_lexer": "ipython3",
   "version": "3.10.11"
  }
 },
 "nbformat": 4,
 "nbformat_minor": 5
}
